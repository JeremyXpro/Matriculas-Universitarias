{
 "cells": [
  {
   "cell_type": "code",
   "execution_count": null,
   "id": "b79f85ef-527d-4243-983e-0c87be2c24db",
   "metadata": {},
   "outputs": [],
   "source": []
  }
 ],
 "metadata": {
  "kernelspec": {
   "display_name": "",
   "name": ""
  },
  "language_info": {
   "name": ""
  }
 },
 "nbformat": 4,
 "nbformat_minor": 5
}
